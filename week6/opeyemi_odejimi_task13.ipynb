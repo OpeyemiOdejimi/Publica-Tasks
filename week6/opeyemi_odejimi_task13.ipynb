{
 "cells": [
  {
   "cell_type": "markdown",
   "id": "642acf02",
   "metadata": {},
   "source": [
    "# Question 1\n",
    "Create a 6x6 Numpy array with random integers between 1 and 50. Display the array."
   ]
  },
  {
   "cell_type": "code",
   "execution_count": 102,
   "id": "2df4733d",
   "metadata": {},
   "outputs": [
    {
     "name": "stdout",
     "output_type": "stream",
     "text": [
      "[[30 41 42 39  9 42]\n",
      " [10  4 29 23 14  7]\n",
      " [42 23 35 12 12 18]\n",
      " [19 41 13 49 36  2]\n",
      " [45  6 32 14  6 27]\n",
      " [22 12 26 11 35 20]]\n"
     ]
    }
   ],
   "source": [
    "import numpy as np\n",
    "arr6d = np.random.randint(1, 50, size=(6, 6))\n",
    "print(arr6d)"
   ]
  },
  {
   "cell_type": "markdown",
   "id": "603f3dba",
   "metadata": {},
   "source": [
    "# Question 2\n",
    "Extract the following from the array you created in Question 1: The first two rows. The last three columns. All even numbers in the array."
   ]
  },
  {
   "cell_type": "code",
   "execution_count": null,
   "id": "9231313f",
   "metadata": {},
   "outputs": [],
   "source": [
    "# Get first two rows\n",
    "first_two_rows = arr6d[:2]\n",
    "print(first_two_rows)\n",
    "\n",
    "# Get last 3 columns\n",
    "print(\" \")\n",
    "last_three_col = arr6d[0:, -3:]\n",
    "print(f\"The last three columns are: {last_three_col}\")\n",
    "\n",
    "# Print all even numbers in array\n",
    "print(\" \")\n",
    "even_num = arr6d[arr6d % 2 == 0 ]\n",
    "print(f\"The even numbers are: {even_num}\")\n"
   ]
  },
  {
   "cell_type": "markdown",
   "id": "564f429a",
   "metadata": {},
   "source": [
    "# Question 3\n",
    "\n",
    "Perform the following array transformations: Reshape the array into a 3D (3, 2, 6) array. Flatten the reshaped array back to 1D."
   ]
  },
  {
   "cell_type": "code",
   "execution_count": 104,
   "id": "f6f8fc28",
   "metadata": {},
   "outputs": [
    {
     "name": "stdout",
     "output_type": "stream",
     "text": [
      "[[[30 41 42 39  9 42]\n",
      "  [10  4 29 23 14  7]]\n",
      "\n",
      " [[42 23 35 12 12 18]\n",
      "  [19 41 13 49 36  2]]\n",
      "\n",
      " [[45  6 32 14  6 27]\n",
      "  [22 12 26 11 35 20]]]\n",
      "[30 41 42 39  9 42 10  4 29 23 14  7 42 23 35 12 12 18 19 41 13 49 36  2\n",
      " 45  6 32 14  6 27 22 12 26 11 35 20]\n"
     ]
    }
   ],
   "source": [
    "# Reshape array into 3D\n",
    "reshaped_array = arr6d.reshape(3,2,6)\n",
    "print(reshaped_array)\n",
    "\n",
    "\n",
    "# Flatten array\n",
    "flattened_array = reshaped_array.flatten()\n",
    "print(flattened_array)"
   ]
  },
  {
   "cell_type": "markdown",
   "id": "3a0a68fa",
   "metadata": {},
   "source": [
    "# Question 4\n",
    "\n",
    "Generate a 4x4 identity matrix and replace the diagonal with numbers from 10 to 40, with a step of 10."
   ]
  },
  {
   "cell_type": "code",
   "execution_count": 128,
   "id": "96d780e8",
   "metadata": {},
   "outputs": [
    {
     "name": "stdout",
     "output_type": "stream",
     "text": [
      "[[1. 0. 0. 0.]\n",
      " [0. 1. 0. 0.]\n",
      " [0. 0. 1. 0.]\n",
      " [0. 0. 0. 1.]]\n",
      " \n",
      "[[10  0  0  0]\n",
      " [ 0 20  0  0]\n",
      " [ 0  0 30  0]\n",
      " [ 0  0  0 40]]\n"
     ]
    }
   ],
   "source": [
    "import numpy as np\n",
    "\n",
    "# Generate 4x4 identity matrix\n",
    "identity_matrix = np.eye(4)\n",
    "print(identity_matrix)\n",
    "\n",
    "# Replace diagnoal with numbers 10 to 40 with step 10.\n",
    "print(\" \")\n",
    "replace_diagonal = np.diag(np.arange(10, 50, 10))\n",
    "print(replace_diagonal)"
   ]
  },
  {
   "cell_type": "markdown",
   "id": "f701ed98",
   "metadata": {},
   "source": [
    "# Question 5\n",
    "Perform matrix multiplication between: A 3x4 matrix of random integers (1-10). A 4x3 matrix of random integers (1 - 10). A 4x3 matrix of random integers (1-10)"
   ]
  },
  {
   "cell_type": "code",
   "execution_count": null,
   "id": "bda001c5",
   "metadata": {},
   "outputs": [
    {
     "name": "stdout",
     "output_type": "stream",
     "text": [
      "[[2 9 8 3]\n",
      " [1 2 5 8]\n",
      " [4 9 6 9]]\n",
      "[[4 1 2]\n",
      " [4 8 6]\n",
      " [7 6 7]\n",
      " [6 3 5]]\n",
      " \n",
      "Matrix 1 is multiplied by 2\n",
      " [[118 131 129]\n",
      " [ 95  71  89]\n",
      " [148 139 149]]\n"
     ]
    }
   ],
   "source": [
    "random_num1 = np.random.randint(1, 10, size=(3,4))\n",
    "random_num2 = np.random.randint(1, 10, size=(4,3))\n",
    "print(random_num1)\n",
    "print(random_num2)\n",
    "print(\" \")\n",
    "multiply_random = np.matmul(random_num1, random_num2)\n",
    "print(\"Matrix 1 is multiplied by 2:\\n\", multiply_random)"
   ]
  },
  {
   "cell_type": "markdown",
   "id": "37657bac",
   "metadata": {},
   "source": [
    "# Question 6\n",
    "Create a function that takes a 2D NumPy array as input and returns a new array where: All even numbers are squared. All odd numbers are replaced by -1"
   ]
  },
  {
   "cell_type": "code",
   "execution_count": null,
   "id": "c5ece422",
   "metadata": {},
   "outputs": [],
   "source": []
  }
 ],
 "metadata": {
  "kernelspec": {
   "display_name": "new_module (3.13.7)",
   "language": "python",
   "name": "python3"
  },
  "language_info": {
   "codemirror_mode": {
    "name": "ipython",
    "version": 3
   },
   "file_extension": ".py",
   "mimetype": "text/x-python",
   "name": "python",
   "nbconvert_exporter": "python",
   "pygments_lexer": "ipython3",
   "version": "3.13.7"
  }
 },
 "nbformat": 4,
 "nbformat_minor": 5
}
