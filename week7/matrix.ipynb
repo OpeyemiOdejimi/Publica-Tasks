{
 "cells": [
  {
   "cell_type": "markdown",
   "id": "5118854c",
   "metadata": {},
   "source": [
    "## Question 1\n",
    "\n",
    "Identify the number of rows and columns in each matrix\n",
    "\n"
   ]
  },
  {
   "cell_type": "code",
   "execution_count": 1,
   "id": "5847d7ab",
   "metadata": {},
   "outputs": [
    {
     "name": "stdout",
     "output_type": "stream",
     "text": [
      "Matrix A: [[ 2 -1  3]\n",
      " [ 0  4  1]]\n",
      " \n",
      "Matrix A has two rows and three columns: (2, 3)\n",
      "\n",
      " \n",
      "Matrix B: [[ 1  2]\n",
      " [-2  0]\n",
      " [ 5 -3]]\n",
      " \n",
      "Matrix B has three rows and two columns: (3, 2)\n"
     ]
    }
   ],
   "source": [
    "import numpy as np\n",
    "import pandas as pd\n",
    "\n",
    "A = np.array([[2, -1, 3],\n",
    "              [0, 4, 1]])\n",
    "print(\"Matrix A:\", A)\n",
    "print(\" \")\n",
    "print('Matrix A has two rows and three columns:', A.shape)\n",
    "print(\"\")\n",
    "\n",
    "\n",
    "B = np.array([[1, 2],[-2, 0],\n",
    "             [5, -3]])\n",
    "print(\" \")\n",
    "print(\"Matrix B:\", B)\n",
    "print(\" \")\n",
    "print(\"Matrix B has three rows and two columns:\", B.shape)\n"
   ]
  },
  {
   "cell_type": "markdown",
   "id": "597e040d",
   "metadata": {},
   "source": [
    "## Question 2\n",
    "Determine whether both matrices can be multiplied."
   ]
  },
  {
   "cell_type": "markdown",
   "id": "68a4c74c",
   "metadata": {},
   "source": [
    "Both matrices can be multiplied (AB) and (BA). This is so because the number of rows in matrix A is equal to the number of columns in matrix B. While the number of rows in matrix B is equal to the number of column in matrix A."
   ]
  },
  {
   "cell_type": "markdown",
   "id": "7d4a70da",
   "metadata": {},
   "source": [
    "## Question 3\n",
    "If the multiplication is defined, compute the resulting matrix."
   ]
  },
  {
   "cell_type": "code",
   "execution_count": 26,
   "id": "da7312bc",
   "metadata": {},
   "outputs": [
    {
     "name": "stdout",
     "output_type": "stream",
     "text": [
      "The multiplication of both matrix (A and B) gives :\n",
      " [[19 -5]\n",
      " [-3 -3]]\n"
     ]
    }
   ],
   "source": [
    "compute_matrix = np.dot(A, B)\n",
    "print(\"The multiplication of both matrix (A and B) gives :\\n\", compute_matrix)"
   ]
  }
 ],
 "metadata": {
  "kernelspec": {
   "display_name": "module_two",
   "language": "python",
   "name": "python3"
  },
  "language_info": {
   "codemirror_mode": {
    "name": "ipython",
    "version": 3
   },
   "file_extension": ".py",
   "mimetype": "text/x-python",
   "name": "python",
   "nbconvert_exporter": "python",
   "pygments_lexer": "ipython3",
   "version": "3.12.4"
  }
 },
 "nbformat": 4,
 "nbformat_minor": 5
}
