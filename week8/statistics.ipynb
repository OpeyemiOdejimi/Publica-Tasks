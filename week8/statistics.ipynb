{
 "cells": [
  {
   "cell_type": "markdown",
   "id": "1c3dd1b0",
   "metadata": {},
   "source": [
    "# Question 1\n",
    "\n",
    "## Class Test Scores\n",
    "\n",
    "The following are the Mathematics test scores (out of 20) for a class of 15 students:\n",
    "5, 8, 10, 12, 12, 12, 13, 14, 14, 15, 16, 18, 18, 20, 20\n",
    "\n",
    "* Find the mean, median, and mode of the scores.\n",
    "\n",
    "\n",
    "* If the lowest score (5) was wrongly recorded and should have been 10, how would the mean change? Would the median or mode change? Explain.\n"
   ]
  },
  {
   "cell_type": "markdown",
   "id": "7896ea67",
   "metadata": {},
   "source": [
    "## Answer\n",
    "\n",
    "1. Mean = $$\\frac{5 + 8 + 10 + 12 + 12 + 12 + 13 + 14 + 14 + 15 + 16 + 18 + 18 + 20 + 20}\n",
    "{15}$$   = 13.8\n",
    "\n",
    "2. Median = 14\n",
    "3. Mode = 12\n",
    "\n",
    "\n",
    "* If the lowest socre 5 was wrongly inputed and the correct value is 10:\n",
    "\n",
    "The mean would change = $$\\frac{8 + 10 + 10 + 12 + 12 + 12 + 13 + 14 + 14 + 15 + 16 + 18 + 18 + 20 + 20}\n",
    "{15}$$  = 14.13\n",
    "\n",
    "* The median would still remain as 14 and the mode will remain as 12"
   ]
  },
  {
   "cell_type": "markdown",
   "id": "f76cc3d8",
   "metadata": {},
   "source": [
    "# Question 2\n",
    "\n",
    "## Daily Commute Times\n",
    "\n",
    "A group of 9 students reported the time (in minutes) it takes them to get to school each day:\n",
    "15, 20, 20, 25, 25, 30, 60, 65, 120\n",
    "\n",
    "1. Find the mean, median, and mode of the data.\n",
    "\n",
    "\n",
    "2. Which measure (mean, median, or mode) do you think best represents the “typical” time it takes students to get to school? Why?\n",
    " (Hint: Think about the effect of the student who takes 120 minutes.)\n",
    "\n",
    "\n",
    "\n",
    "\n"
   ]
  },
  {
   "cell_type": "markdown",
   "id": "64345067",
   "metadata": {},
   "source": [
    "## Answer\n",
    "\n",
    "1. Mean = $$\\frac{15 + 20 + 20 + 25 + 25 + 30 + 60 + 65 + 120}\n",
    "{9}$$ = 42.2\n",
    "\n",
    "* Median = 25\n",
    "\n",
    "* Mode = 20 and 25\n",
    "\n",
    "\n",
    "2. In my opinion, I think that the mean cannot represent the typical time it takes a student to get to school. This is so because to get the mean, the total values are added and divided by the number of values. This leaves me with median and mode. Both are handled as a single entity but in this case, the median score appears to be to be the best as it is just one."
   ]
  },
  {
   "cell_type": "markdown",
   "id": "dc5778c8",
   "metadata": {},
   "source": [
    "# Question 3\n",
    "##  Shoe Sizes\n",
    "\n",
    "The shoe sizes of students in a class are:\n",
    " 38, 39, 38, 40, 41, 42, 39, 39, 40, 38, 37, 39, 40, 41, 42\n",
    "1. Find the mode of the data.\n",
    "\n",
    "\n",
    "2. If a shoe company wants to donate free shoes, which size should they produce most of? Why?\n",
    "\n",
    "\n",
    "3. What if they only want to produce one size that would fit the \"average\" student? Should they use mean, median, or mode? Defend your answer.\n"
   ]
  },
  {
   "cell_type": "markdown",
   "id": "5ac92158",
   "metadata": {},
   "source": [
    "## Answer\n",
    "\n",
    "1. Mode = 39\n",
    "\n",
    "2. A shoe company will donate size 39 the most. This is because 39 is the size with the highest frequency, this means people with size 39 are more common in comparison to other sizes. \n",
    "\n",
    "3. IF they want to produce one size that fits the average student, I would suggest median value is selected. This is because 50 % of the data is equal to or less than the median. "
   ]
  }
 ],
 "metadata": {
  "language_info": {
   "name": "python"
  }
 },
 "nbformat": 4,
 "nbformat_minor": 5
}
