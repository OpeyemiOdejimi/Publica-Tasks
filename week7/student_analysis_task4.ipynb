{
 "cells": [
  {
   "cell_type": "code",
   "execution_count": 1,
   "id": "c613478c",
   "metadata": {},
   "outputs": [],
   "source": [
    "import numpy as np\n",
    "\n"
   ]
  },
  {
   "cell_type": "code",
   "execution_count": null,
   "id": "2c14f780",
   "metadata": {},
   "outputs": [
    {
     "data": {
      "text/plain": [
       "array([[80, 70, 90],\n",
       "       [60, 85, 75],\n",
       "       [95, 88, 92],\n",
       "       [70, 60, 65]])"
      ]
     },
     "execution_count": 31,
     "metadata": {},
     "output_type": "execute_result"
    }
   ],
   "source": [
    "# 3.1 Representing Data as a Matrix\n",
    "\n",
    "student_scores = np.array([[80, 70, 90],\n",
    "                          [60, 85, 75],\n",
    "                          [95, 88, 92],\n",
    "                          [70, 60, 65]])\n",
    "student_scores"
   ]
  },
  {
   "cell_type": "code",
   "execution_count": null,
   "id": "97afde70",
   "metadata": {},
   "outputs": [
    {
     "name": "stdout",
     "output_type": "stream",
     "text": [
      "The total score for student1 is 240\n",
      "The total score for student2 is 220\n",
      "The total score for student3 is 275\n",
      "The total score for student4 is 195\n"
     ]
    }
   ],
   "source": [
    "# 3.2 Total Scores per Student\n",
    "row_of_sum1 = np.sum(student_scores, axis=1)\n",
    "for i, total in enumerate(row_of_sum1, 1):\n",
    "    print(f\"The total score for student{i} is {total}\")"
   ]
  },
  {
   "cell_type": "code",
   "execution_count": null,
   "id": "20b1036d",
   "metadata": {},
   "outputs": [
    {
     "name": "stdout",
     "output_type": "stream",
     "text": [
      "Since maths is twice as important as others. Weighted scores is:\n",
      " [[160  70  90]\n",
      " [120  85  75]\n",
      " [190  88  92]\n",
      " [140  60  65]]\n",
      " \n",
      "Total score for student1 is 320\n",
      "Total score for student2 is 280\n",
      "Total score for student3 is 370\n",
      "Total score for student4 is 265\n"
     ]
    }
   ],
   "source": [
    "#3.3 Applying Weights (Scalar Multiplication)\n",
    "weighted_maths = np.array([2, 1, 1])\n",
    "weighted_maths = student_scores * weighted_maths\n",
    "print(\"Since maths is twice as important as others. Weighted scores is:\\n\", weighted_maths)\n",
    "\n",
    "new_score = weighted_maths\n",
    "print(\" \")\n",
    "\n",
    "row_of_sum2 = np.sum(weighted_maths, axis=1)\n",
    "\n",
    "for i, total in enumerate(row_of_sum2, 1):\n",
    "    print(f\"Total score for student{i} is {total}\")\n",
    "\n"
   ]
  },
  {
   "cell_type": "code",
   "execution_count": null,
   "id": "12c460a5",
   "metadata": {},
   "outputs": [
    {
     "name": "stdout",
     "output_type": "stream",
     "text": [
      "Average of ['Maths', 'English', 'Science'] is 152.5\n",
      "Average of ['Maths', 'English', 'Science'] is 75.75\n",
      "Average of ['Maths', 'English', 'Science'] is 80.5\n"
     ]
    }
   ],
   "source": [
    "# 3.4 Average score per students (Matrix Operations)\n",
    "\n",
    "subjects = [\"Maths\", \"English\", \"Science\"]\n",
    "average_subject = np.mean(new_score, axis=0)\n",
    "\n",
    "for subject, avg in zip(subjects, average_subject):\n",
    "    print(f\"Average of {subjects} is {avg}\")\n",
    "\n"
   ]
  },
  {
   "cell_type": "code",
   "execution_count": null,
   "id": "1cdc977a",
   "metadata": {},
   "outputs": [
    {
     "name": "stdout",
     "output_type": "stream",
     "text": [
      "The final grade for student1 is 119.0\n",
      "The final grade for student2 is 100.5\n",
      "The final grade for student3 is 139.8\n",
      "The final grade for student4 is 101.0\n"
     ]
    }
   ],
   "source": [
    "# 3.5 Final Grades using Matrix Multiplication\n",
    "\n",
    "grades = np.array([0.5, 0.3, 0.2])\n",
    "final_grade = np.matmul(new_score, grades)\n",
    "\n",
    "\n",
    "for i, grade in enumerate(final_grade, 1):\n",
    "    print(f\"The final grade for student{i} is {grade}\")\n",
    "    \n"
   ]
  },
  {
   "cell_type": "code",
   "execution_count": 39,
   "id": "2dac7424",
   "metadata": {},
   "outputs": [
    {
     "name": "stdout",
     "output_type": "stream",
     "text": [
      "Student1 performed better\n"
     ]
    }
   ],
   "source": [
    "# 3.6 Comparing students (vector substraction)\n",
    "\n",
    "student1 = new_score[0]\n",
    "student2 = new_score[1]\n",
    "\n",
    "sum_of_student1 = np.sum(new_score[0])\n",
    "sum_of_student2 = np.sum(new_score[1])\n",
    "\n",
    "comparing_student = sum_of_student1 - sum_of_student2\n",
    "\n",
    "if comparing_student > 0:\n",
    "    print(\"Student1 performed better\")\n",
    "elif comparing_student < 0:\n",
    "    print(\"Student2 performed better\")\n",
    "else:\n",
    "    print(\"Both student tie\")\n"
   ]
  }
 ],
 "metadata": {
  "kernelspec": {
   "display_name": "module_two (3.13.7)",
   "language": "python",
   "name": "python3"
  },
  "language_info": {
   "codemirror_mode": {
    "name": "ipython",
    "version": 3
   },
   "file_extension": ".py",
   "mimetype": "text/x-python",
   "name": "python",
   "nbconvert_exporter": "python",
   "pygments_lexer": "ipython3",
   "version": "3.13.7"
  }
 },
 "nbformat": 4,
 "nbformat_minor": 5
}
