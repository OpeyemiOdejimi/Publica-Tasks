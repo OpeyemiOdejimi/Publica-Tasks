{
 "cells": [
  {
   "cell_type": "markdown",
   "id": "042ca0cd",
   "metadata": {},
   "source": [
    "## Chi-square Test"
   ]
  },
  {
   "cell_type": "markdown",
   "id": "2df24a1c",
   "metadata": {},
   "source": [
    "This is a statistical hypothesis test used to analyze categorical data to determine if there is a tangible difference or association between observed and expected frequencies of the data in question.\n",
    "\n",
    "**Types of Chi-square Test**\n",
    "\n",
    "1. Chi-square Test of Independence: This type checks if two categorical variable are related\n",
    "2. Chi-Square Goodness-of-Fit Test: This kind checks if the distribution of one categorical variable fits an expected distribution"
   ]
  },
  {
   "cell_type": "markdown",
   "id": "301590c5",
   "metadata": {},
   "source": [
    "## ANOVA"
   ]
  },
  {
   "cell_type": "markdown",
   "id": "906d399b",
   "metadata": {},
   "source": [
    "**ANOVA** also known as Analysis of Variance is usually employed in statistics when you need to test or find whether there are significant differences between the mean of two or three groups.\n",
    "\n",
    "**Types of ANOVA**\n",
    "1. One-way ANOVA: Checks differences between means of one independent categorical variable. \n",
    "2. Two-way ANOVA: Tests the effects of two independent categorical variable, including their interactions.\n",
    "3. Repeated Measures ANOVA: This is useful when you need to measure a particular variable or subject multiple times."
   ]
  },
  {
   "cell_type": "markdown",
   "id": "c3962f97",
   "metadata": {},
   "source": [
    "## Two Tailed Test"
   ]
  },
  {
   "cell_type": "markdown",
   "id": "41eea6b4",
   "metadata": {},
   "source": [
    "A two tailed test is a statistical hypothesis test that helps determines if a population parameter is different significantly from a defined value without necessarily specifying the direction. i.e whether higher or on the lower end."
   ]
  },
  {
   "cell_type": "markdown",
   "id": "0d91e55f",
   "metadata": {},
   "source": [
    "## Proportion Test"
   ]
  },
  {
   "cell_type": "markdown",
   "id": "a87ac43f",
   "metadata": {},
   "source": [
    "This statistical hypothesis test is utilized when you want to check if the percentage of success in a sample is significantly different from a defined population or let's say from another different group."
   ]
  }
 ],
 "metadata": {
  "language_info": {
   "name": "python"
  }
 },
 "nbformat": 4,
 "nbformat_minor": 5
}
